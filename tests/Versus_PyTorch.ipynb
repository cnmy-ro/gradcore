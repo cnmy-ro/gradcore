{
 "cells": [
  {
   "cell_type": "markdown",
   "metadata": {},
   "source": [
    "# Comparing with PyTorch"
   ]
  },
  {
   "cell_type": "code",
   "execution_count": 2,
   "metadata": {},
   "outputs": [],
   "source": [
    "import sys\n",
    "\n",
    "import numpy as np\n",
    "import torch\n",
    "\n",
    "sys.path.append(\"../python\")\n",
    "from nabla import Tensor"
   ]
  },
  {
   "cell_type": "code",
   "execution_count": 3,
   "metadata": {},
   "outputs": [
    {
     "name": "stdout",
     "output_type": "stream",
     "text": [
      "[[ 8. 64.]]\n",
      "tensor([[ 8., 64.]], dtype=torch.float64)\n"
     ]
    }
   ],
   "source": [
    "an = Tensor(np.array([[1., 2.]]), requires_grad=True)\n",
    "at = torch.tensor(np.array([[1., 2.]]), requires_grad=True)\n",
    "\n",
    "ln = (an**4 * 2. + 3).sum()\n",
    "lt = (at**4 * 2. + 3).sum()\n",
    "\n",
    "ln.backward()\n",
    "lt.backward()\n",
    "print(an.grad)\n",
    "print(at.grad)"
   ]
  }
 ],
 "metadata": {
  "kernelspec": {
   "display_name": "vision",
   "language": "python",
   "name": "python3"
  },
  "language_info": {
   "codemirror_mode": {
    "name": "ipython",
    "version": 3
   },
   "file_extension": ".py",
   "mimetype": "text/x-python",
   "name": "python",
   "nbconvert_exporter": "python",
   "pygments_lexer": "ipython3",
   "version": "3.8.11"
  },
  "orig_nbformat": 4
 },
 "nbformat": 4,
 "nbformat_minor": 2
}
